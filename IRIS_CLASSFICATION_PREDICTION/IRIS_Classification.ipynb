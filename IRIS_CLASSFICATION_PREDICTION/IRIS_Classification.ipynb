{
  "cells": [
    {
      "cell_type": "markdown",
      "metadata": {
        "id": "S9o963cDih0V"
      },
      "source": [
        " **IRIS  CLASSIFICATION**\n"
      ]
    },
    {
      "cell_type": "markdown",
      "metadata": {
        "id": "We8I6AbTjCNO"
      },
      "source": [
        " IMPORTING IMPORTANT LIBRARIES "
      ]
    },
    {
      "cell_type": "code",
      "execution_count": null,
      "metadata": {
        "id": "o6i-UMfyjHjy"
      },
      "outputs": [],
      "source": [
        "import numpy as np\n",
        "import pandas as pd\n",
        "from sklearn.cluster import KMeans\n",
        "import matplotlib.pyplot as plt\n",
        "import seaborn as sns"
      ]
    },
    {
      "cell_type": "markdown",
      "metadata": {
        "id": "eYs2dQ9Xi6BJ"
      },
      "source": [
        " DOWNLOADING DATASETS \n",
        "\n",
        "\n"
      ]
    },
    {
      "cell_type": "code",
      "execution_count": null,
      "metadata": {
        "id": "C7M6aEtziZDv"
      },
      "outputs": [],
      "source": [
        "df = sns.load_dataset('iris')\n"
      ]
    },
    {
      "cell_type": "code",
      "execution_count": null,
      "metadata": {
        "colab": {
          "base_uri": "https://localhost:8080/",
          "height": 206
        },
        "id": "IadXvtZF80Px",
        "outputId": "8d826f1c-5f0c-485a-9897-e7aad4594e6a"
      },
      "outputs": [],
      "source": [
        "df.head()"
      ]
    },
    {
      "cell_type": "code",
      "execution_count": null,
      "metadata": {
        "id": "p6_4X1zmi83-"
      },
      "outputs": [],
      "source": [
        "# Encode the 'species' column into numerical values and store the result in 'df['species']'.\n",
        "# Also, capture the unique categories in the 'categories' variable.\n",
        "df['species'], categories = pd.factorize(df['species'])\n"
      ]
    },
    {
      "cell_type": "code",
      "execution_count": null,
      "metadata": {
        "colab": {
          "base_uri": "https://localhost:8080/",
          "height": 206
        },
        "id": "gHoZ3Ovu85lz",
        "outputId": "69d227ff-20a8-438b-90ad-b58914f61687"
      },
      "outputs": [],
      "source": [
        "df.head()"
      ]
    },
    {
      "cell_type": "code",
      "execution_count": null,
      "metadata": {
        "colab": {
          "base_uri": "https://localhost:8080/"
        },
        "id": "tA9A-vmCjYc1",
        "outputId": "ecf95165-1793-40a8-d8d0-af849038bf05"
      },
      "outputs": [],
      "source": [
        "df.describe"
      ]
    },
    {
      "cell_type": "code",
      "execution_count": null,
      "metadata": {
        "colab": {
          "base_uri": "https://localhost:8080/"
        },
        "id": "KtKqhGhxjg2S",
        "outputId": "952ae47f-0197-41de-f226-573aaf4fe9ba"
      },
      "outputs": [],
      "source": [
        "df.isna().sum()"
      ]
    },
    {
      "cell_type": "markdown",
      "metadata": {
        "id": "kElO4LbajpIi"
      },
      "source": [
        " Time to visualize the data! "
      ]
    },
    {
      "cell_type": "code",
      "execution_count": null,
      "metadata": {
        "colab": {
          "base_uri": "https://localhost:8080/",
          "height": 542
        },
        "id": "eRk4QuBz-mlQ",
        "outputId": "b2a98e3b-bcf0-4875-df67-28830ea33bf1"
      },
      "outputs": [],
      "source": [
        "import plotly.express as px\n",
        "\n",
        "fig = px.scatter_3d(df, x='petal_length', y='petal_width', z='species',\n",
        "                     color='species', title='3D Scatter Plot Example')\n",
        "\n",
        "fig.update_layout(scene=dict(xaxis_title='Petal Length (cm)',\n",
        "                             yaxis_title='Petal Width (cm)',\n",
        "                             zaxis_title='Species'))\n",
        "\n",
        "fig.show()\n"
      ]
    },
    {
      "cell_type": "code",
      "execution_count": null,
      "metadata": {
        "colab": {
          "base_uri": "https://localhost:8080/",
          "height": 542
        },
        "id": "mpKY_ceZ_Qzd",
        "outputId": "7f7933d6-5263-4da1-f532-a34818a81de0"
      },
      "outputs": [],
      "source": [
        "import plotly.express as px\n",
        "\n",
        "fig = px.scatter_3d(df, x='sepal_length', y='sepal_width', z='species',\n",
        "                     color='species', title='3D Scatter Plot Example')\n",
        "\n",
        "fig.update_layout(scene=dict(xaxis_title='Sepal Length (cm)',\n",
        "                             yaxis_title='Sepal Width (cm)',\n",
        "                             zaxis_title='Species'))\n",
        "\n",
        "fig.show()\n",
        "\n"
      ]
    },
    {
      "cell_type": "markdown",
      "metadata": {
        "id": "dF6_VHMLkJxJ"
      },
      "source": [
        "Thus, the 3-D plot gives us a captivating glimpse of how the species of iris flowers are more inclined towards the variables petal length and petal width."
      ]
    },
    {
      "cell_type": "code",
      "execution_count": null,
      "metadata": {
        "colab": {
          "base_uri": "https://localhost:8080/",
          "height": 1000
        },
        "id": "K6LMh7BbAgZR",
        "outputId": "412ff921-383f-4d0a-fca6-e4413f10d936"
      },
      "outputs": [],
      "source": [
        "import seaborn as sns\n",
        "import matplotlib.pyplot as plt\n",
        "\n",
        "sns.pairplot(df, hue=\"species\")\n",
        "\n",
        "plt.suptitle('Pairplot of Iris Dataset', y=1.02)\n",
        "\n",
        "plt.show()\n"
      ]
    },
    {
      "cell_type": "markdown",
      "metadata": {
        "id": "_Mdza4O7knA7"
      },
      "source": [
        "Let's classify the Iris dataset using K-means clustering! We'll uncover the perfect 'k' value with the magic of the Elbow Technique. "
      ]
    },
    {
      "cell_type": "code",
      "execution_count": null,
      "metadata": {
        "colab": {
          "base_uri": "https://localhost:8080/"
        },
        "id": "BjMkxPQvkgB_",
        "outputId": "20288612-807f-4685-bc04-57fa0cd33342"
      },
      "outputs": [],
      "source": [
        "import pandas as pd\n",
        "from sklearn.cluster import KMeans\n",
        "import matplotlib.pyplot as plt\n",
        "\n",
        "df['species'] = df['species'].astype('category')\n",
        "df['species'] = df['species'].cat.codes\n",
        "\n",
        "k_values = range(1, 10)\n",
        "\n",
        "sum_of_squared_errors = []\n",
        "\n",
        "for k in k_values:\n",
        "    kmeans_model = KMeans(n_clusters=k, random_state=0)\n",
        "\n",
        "    kmeans_model.fit(df[['petal_length', 'petal_width']])\n",
        "\n",
        "    sum_of_squared_errors.append(kmeans_model.inertia_)\n",
        "\n",
        "\n"
      ]
    },
    {
      "cell_type": "code",
      "execution_count": null,
      "metadata": {
        "colab": {
          "base_uri": "https://localhost:8080/"
        },
        "id": "XR8cVXKRkvr9",
        "outputId": "f4df7820-55de-4de2-90df-582841b1c4e4"
      },
      "outputs": [],
      "source": [
        "sum_of_squared_errors"
      ]
    },
    {
      "cell_type": "code",
      "execution_count": null,
      "metadata": {
        "colab": {
          "base_uri": "https://localhost:8080/",
          "height": 449
        },
        "id": "MlcbUlFvk1nQ",
        "outputId": "afde65f8-6ef5-4949-cd96-0cd1c1193655"
      },
      "outputs": [],
      "source": [
        "plt.xlabel('Number of Clusters (k)')\n",
        "plt.ylabel(\"Sum of Squared Errors\")\n",
        "plt.plot(k_values, sum_of_squared_errors)\n",
        "plt.show()"
      ]
    },
    {
      "cell_type": "markdown",
      "metadata": {
        "id": "0KSb6LM8NZbM"
      },
      "source": [
        "Let's use K-Means clustering algorithm to our dataset!"
      ]
    },
    {
      "cell_type": "code",
      "execution_count": null,
      "metadata": {
        "colab": {
          "base_uri": "https://localhost:8080/"
        },
        "id": "k1AAjnKTsHtF",
        "outputId": "01db9a24-9bfc-4482-ef5b-0000ea8f9a8c"
      },
      "outputs": [],
      "source": [
        "km = KMeans(n_clusters=3,random_state=0,)\n",
        "y_predicted = km.fit_predict(df[['petal_length','petal_width']])\n",
        "y_predicted\n",
        "df['cluster'] = y_predicted"
      ]
    },
    {
      "cell_type": "code",
      "execution_count": null,
      "metadata": {
        "colab": {
          "base_uri": "https://localhost:8080/",
          "height": 423
        },
        "id": "Zw8zDbyDNlVR",
        "outputId": "24ce146f-0275-43fd-b353-9561b88e3938"
      },
      "outputs": [],
      "source": [
        "df['cluster']=y_predicted\n",
        "df.head(150)"
      ]
    },
    {
      "cell_type": "markdown",
      "metadata": {
        "id": "1sS5MB1dO9Lu"
      },
      "source": [
        "\n",
        "Accuracy measure "
      ]
    },
    {
      "cell_type": "code",
      "execution_count": null,
      "metadata": {
        "colab": {
          "base_uri": "https://localhost:8080/"
        },
        "id": "UCIKV3nwO3BI",
        "outputId": "56073500-6df7-4a67-aa50-d5850cfae603"
      },
      "outputs": [],
      "source": [
        "from sklearn.metrics import confusion_matrix\n",
        "cm = confusion_matrix(df.species, df.cluster)\n",
        "cm"
      ]
    },
    {
      "cell_type": "code",
      "execution_count": null,
      "metadata": {
        "colab": {
          "base_uri": "https://localhost:8080/",
          "height": 607
        },
        "id": "KiR79l8EPD3p",
        "outputId": "d1a0a915-b595-4ea2-ca2f-6694d5913a21"
      },
      "outputs": [],
      "source": [
        "import pandas as pd\n",
        "import numpy as np\n",
        "import matplotlib.pyplot as plt\n",
        "from sklearn.metrics import confusion_matrix\n",
        "\n",
        "true_labels = df.species\n",
        "predicted_labels = df.cluster\n",
        "class_labels = ['Setosa', 'Versicolor', 'Virginica']\n",
        "\n",
        "cm = confusion_matrix(true_labels, predicted_labels)\n",
        "\n",
        "fig, ax = plt.subplots(figsize=(8, 6))\n",
        "im = ax.imshow(cm, interpolation='nearest', cmap=plt.cm.Blues)\n",
        "\n",
        "cbar = ax.figure.colorbar(im, ax=ax)\n",
        "cbar.ax.set_ylabel(\"Counts\", rotation=-90, va=\"bottom\")\n",
        "\n",
        "ax.set_title('Confusion Matrix', fontsize=16)\n",
        "ax.set_xlabel('Predicted label', fontsize=14)\n",
        "ax.set_ylabel('True label', fontsize=14)\n",
        "\n",
        "tick_marks = np.arange(len(class_labels))\n",
        "ax.set_xticks(tick_marks)\n",
        "ax.set_yticks(tick_marks)\n",
        "ax.set_xticklabels(class_labels, rotation=45, ha=\"right\", fontsize=12)\n",
        "ax.set_yticklabels(class_labels, fontsize=12)\n",
        "\n",
        "for i in range(len(class_labels)):\n",
        "    for j in range(len(class_labels)):\n",
        "        text_color = \"white\" if cm[i, j] > cm.max() / 2 else \"black\"\n",
        "        ax.text(j, i, str(cm[i, j]), ha='center', va='center', color=text_color, fontsize=14)\n",
        "\n",
        "plt.tight_layout()\n",
        "\n",
        "plt.show()\n"
      ]
    },
    {
      "cell_type": "code",
      "execution_count": null,
      "metadata": {},
      "outputs": [],
      "source": [
        "def predict_species(petal_length, petal_width):\n",
        "    user_input = np.array([[petal_length, petal_width]])\n",
        "    user_cluster = km.predict(user_input)[0]\n",
        "    \n",
        "    if user_cluster == 0:\n",
        "        return \"Setosa\"\n",
        "    elif user_cluster == 1:\n",
        "        return \"Versicolor\"\n",
        "    elif user_cluster == 2:\n",
        "        return \"Virginica\"\n",
        "    else:\n",
        "        return \"Unknown Cluster\"\n",
        "\n",
        "# Take input from the user\n",
        "user_petal_length = float(input(\"Enter petal length (cm): \"))\n",
        "user_petal_width = float(input(\"Enter petal width (cm): \"))\n",
        "\n",
        "# Predict the species based on user input\n",
        "predicted_species = predict_species(user_petal_length, user_petal_width)\n",
        "\n",
        "print(f\"The predicted species for input ({user_petal_length} cm, {user_petal_width} cm) is: {predicted_species}\")"
      ]
    },
    {
      "cell_type": "code",
      "execution_count": null,
      "metadata": {},
      "outputs": [],
      "source": [
        "\n"
      ]
    }
  ],
  "metadata": {
    "colab": {
      "provenance": []
    },
    "kernelspec": {
      "display_name": "Python 3",
      "name": "python3"
    },
    "language_info": {
      "codemirror_mode": {
        "name": "ipython",
        "version": 3
      },
      "file_extension": ".py",
      "mimetype": "text/x-python",
      "name": "python",
      "nbconvert_exporter": "python",
      "pygments_lexer": "ipython3",
      "version": "3.11.7"
    }
  },
  "nbformat": 4,
  "nbformat_minor": 0
}
